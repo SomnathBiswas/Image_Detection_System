{
 "cells": [
  {
   "cell_type": "code",
   "execution_count": 1,
   "metadata": {},
   "outputs": [],
   "source": [
    "import os\n",
    "import numpy as np\n",
    "from tensorflow.keras.preprocessing.image import ImageDataGenerator, load_img, img_to_array\n",
    "george_images = [f for f in os.listdir('./george_test_task/george') if f.endswith('.jpg')]\n",
    "non_george_images = [f for f in os.listdir('./george_test_task/no_george') if f.endswith('.jpg')]"
   ]
  },
  {
   "cell_type": "code",
   "execution_count": 2,
   "metadata": {},
   "outputs": [],
   "source": [
    "def load_preprocess_image(image_path, target_size=(224, 224)):\n",
    "    image = load_img(image_path, target_size=target_size)\n",
    "    image = img_to_array(image)\n",
    "    image = image / 255.\n",
    "    return image"
   ]
  },
  {
   "cell_type": "code",
   "execution_count": 3,
   "metadata": {},
   "outputs": [],
   "source": [
    "# Load and preprocess images\n",
    "george_images_data = np.array([load_preprocess_image(os.path.join('./george_test_task/george', img)) for img in george_images])\n",
    "non_george_images_data = np.array([load_preprocess_image(os.path.join('./george_test_task/no_george', img)) for img in non_george_images])\n",
    "\n",
    "# Create labels\n",
    "george_labels = np.ones((len(george_images), 1))\n",
    "non_george_labels = np.zeros((len(non_george_images), 1))\n",
    "\n",
    "# Combine data and labels\n",
    "X = np.concatenate((george_images_data, non_george_images_data))\n",
    "y = np.concatenate((george_labels, non_george_labels))"
   ]
  },
  {
   "cell_type": "code",
   "execution_count": 4,
   "metadata": {},
   "outputs": [
    {
     "name": "stdout",
     "output_type": "stream",
     "text": [
      "Downloading data from https://storage.googleapis.com/tensorflow/keras-applications/vgg16/vgg16_weights_tf_dim_ordering_tf_kernels_notop.h5\n",
      "58889256/58889256 [==============================] - 17s 0us/step\n"
     ]
    }
   ],
   "source": [
    "from keras.applications import VGG16\n",
    "from keras.models import Sequential\n",
    "from keras.layers import Dense, Flatten\n",
    "\n",
    "# Load pre-trained model\n",
    "base_model = VGG16(weights='imagenet', include_top=False, input_shape=(224, 224, 3))\n",
    "\n",
    "# Add custom layers\n",
    "model = Sequential()\n",
    "model.add(base_model)\n",
    "model.add(Flatten())\n",
    "model.add(Dense(256, activation='relu'))\n",
    "model.add(Dense(1, activation='sigmoid'))\n",
    "\n",
    "# Freeze pre-trained layers\n",
    "for layer in base_model.layers:\n",
    "    layer.trainable = False\n",
    "\n",
    "# Compile the model\n",
    "model.compile(optimizer='adam', loss='binary_crossentropy', metrics=['accuracy'])"
   ]
  },
  {
   "cell_type": "code",
   "execution_count": 5,
   "metadata": {},
   "outputs": [
    {
     "name": "stdout",
     "output_type": "stream",
     "text": [
      "Epoch 1/10\n",
      "143/143 [==============================] - 1498s 10s/step - loss: 0.5365 - accuracy: 0.7908 - val_loss: 0.3684 - val_accuracy: 0.8500\n",
      "Epoch 2/10\n",
      "143/143 [==============================] - 1609s 11s/step - loss: 0.2540 - accuracy: 0.8987 - val_loss: 0.3835 - val_accuracy: 0.8491\n",
      "Epoch 3/10\n",
      "143/143 [==============================] - 1455s 10s/step - loss: 0.1580 - accuracy: 0.9423 - val_loss: 0.3497 - val_accuracy: 0.8658\n",
      "Epoch 4/10\n",
      "143/143 [==============================] - 1230s 9s/step - loss: 0.0975 - accuracy: 0.9691 - val_loss: 0.3948 - val_accuracy: 0.8526\n",
      "Epoch 5/10\n",
      "143/143 [==============================] - 2619s 18s/step - loss: 0.0601 - accuracy: 0.9836 - val_loss: 0.4562 - val_accuracy: 0.8561\n",
      "Epoch 6/10\n",
      "143/143 [==============================] - 3250s 23s/step - loss: 0.0424 - accuracy: 0.9886 - val_loss: 0.6003 - val_accuracy: 0.8465\n",
      "Epoch 7/10\n",
      "143/143 [==============================] - 1224s 9s/step - loss: 0.0442 - accuracy: 0.9893 - val_loss: 0.4532 - val_accuracy: 0.8719\n",
      "Epoch 8/10\n",
      "143/143 [==============================] - 1223s 9s/step - loss: 0.0464 - accuracy: 0.9849 - val_loss: 0.5027 - val_accuracy: 0.8649\n",
      "Epoch 9/10\n",
      "143/143 [==============================] - 1218s 9s/step - loss: 0.0484 - accuracy: 0.9862 - val_loss: 0.7177 - val_accuracy: 0.8447\n",
      "Epoch 10/10\n",
      "143/143 [==============================] - 1215s 9s/step - loss: 0.0576 - accuracy: 0.9807 - val_loss: 0.5580 - val_accuracy: 0.8640\n"
     ]
    },
    {
     "data": {
      "text/plain": [
       "<keras.src.callbacks.History at 0x1ab16f888b0>"
      ]
     },
     "execution_count": 5,
     "metadata": {},
     "output_type": "execute_result"
    }
   ],
   "source": [
    "from sklearn.model_selection import train_test_split\n",
    "# Combine data and labels\n",
    "X = np.concatenate((george_images_data, non_george_images_data))\n",
    "y = np.concatenate((george_labels, non_george_labels))\n",
    "\n",
    "# Split data into training and testing sets\n",
    "X_train, X_test, y_train, y_test = train_test_split(X, y, test_size=0.2, random_state=42)\n",
    "\n",
    "# Train the model\n",
    "model.fit(X_train, y_train, epochs=10, batch_size=32, validation_data=(X_test, y_test))"
   ]
  },
  {
   "cell_type": "code",
   "execution_count": 6,
   "metadata": {},
   "outputs": [
    {
     "name": "stdout",
     "output_type": "stream",
     "text": [
      "Test accuracy: 0.8640350699424744\n",
      "36/36 [==============================] - 251s 7s/step\n",
      "Test accuracy: 0.8640350877192983\n"
     ]
    }
   ],
   "source": [
    "from sklearn.metrics import accuracy_score\n",
    "# Evaluate the model on the test data\n",
    "test_loss, test_accuracy = model.evaluate(X_test, y_test, verbose=0)\n",
    "\n",
    "# Print the test accuracy\n",
    "print(f'Test accuracy: {test_accuracy}')\n",
    "\n",
    "# Make predictions on the test data\n",
    "y_pred = model.predict(X_test)\n",
    "\n",
    "# Convert predicted probabilities to binary labels\n",
    "y_pred = np.round(y_pred)\n",
    "\n",
    "# Calculate accuracy score\n",
    "accuracy = accuracy_score(y_test, y_pred)\n",
    "print(f'Test accuracy: {accuracy}')"
   ]
  },
  {
   "cell_type": "code",
   "execution_count": 7,
   "metadata": {},
   "outputs": [
    {
     "name": "stdout",
     "output_type": "stream",
     "text": [
      "Test accuracy: 0.8640350877192983\n",
      "Test precision: 0.8488612836438924\n",
      "Test recall: 0.8333333333333334\n",
      "Test F1 score: 0.841025641025641\n"
     ]
    }
   ],
   "source": [
    "from sklearn.metrics import precision_score, recall_score, f1_score\n",
    "\n",
    "# Calculate precision, recall, and F1 score\n",
    "precision = precision_score(y_test, y_pred)\n",
    "recall = recall_score(y_test, y_pred)\n",
    "f1 = f1_score(y_test, y_pred)\n",
    "\n",
    "# Print the evaluation metrics\n",
    "print(f'Test accuracy: {accuracy}')\n",
    "print(f'Test precision: {precision}')\n",
    "print(f'Test recall: {recall}')\n",
    "print(f'Test F1 score: {f1}')"
   ]
  },
  {
   "cell_type": "code",
   "execution_count": 8,
   "metadata": {},
   "outputs": [],
   "source": [
    "def predict_image(model, image_path):\n",
    "    image = load_preprocess_image(image_path)\n",
    "    image = np.expand_dims(image, axis=0)\n",
    "    prediction = model.predict(image)\n",
    "    if prediction > 0.5:\n",
    "        print ('St. George present')\n",
    "    else:\n",
    "        print ('St. George absent')"
   ]
  },
  {
   "cell_type": "code",
   "execution_count": 9,
   "metadata": {},
   "outputs": [
    {
     "name": "stdout",
     "output_type": "stream",
     "text": [
      "1/1 [==============================] - 0s 247ms/step\n",
      "St. George absent\n"
     ]
    }
   ],
   "source": [
    "# Load an image\n",
    "image_path = 'george_test_task/no_george/0a1a0665ac98ae81be4b54db17564f34.jpg'\n",
    "\n",
    "# Make a prediction on the image\n",
    "predict_image(model, image_path)"
   ]
  },
  {
   "cell_type": "code",
   "execution_count": 10,
   "metadata": {},
   "outputs": [
    {
     "name": "stdout",
     "output_type": "stream",
     "text": [
      "1/1 [==============================] - 0s 279ms/step\n",
      "St. George present\n"
     ]
    }
   ],
   "source": [
    "# Load an image\n",
    "image_path = 'george_test_task/george/0a5f7b5996063605dd05887ef4d31855.jpg'\n",
    "\n",
    "# Make a prediction on the image\n",
    "predict_image(model, image_path)"
   ]
  }
 ],
 "metadata": {
  "kernelspec": {
   "display_name": "Python 3",
   "language": "python",
   "name": "python3"
  },
  "language_info": {
   "codemirror_mode": {
    "name": "ipython",
    "version": 3
   },
   "file_extension": ".py",
   "mimetype": "text/x-python",
   "name": "python",
   "nbconvert_exporter": "python",
   "pygments_lexer": "ipython3",
   "version": "3.10.9"
  }
 },
 "nbformat": 4,
 "nbformat_minor": 2
}
